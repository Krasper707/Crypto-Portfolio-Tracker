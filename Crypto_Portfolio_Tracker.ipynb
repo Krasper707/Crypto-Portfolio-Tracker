{
  "nbformat": 4,
  "nbformat_minor": 0,
  "metadata": {
    "colab": {
      "provenance": []
    },
    "kernelspec": {
      "name": "python3",
      "display_name": "Python 3"
    },
    "language_info": {
      "name": "python"
    }
  },
  "cells": [
    {
      "cell_type": "code",
      "source": [
        "!pip install gradio plotly --quiet"
      ],
      "metadata": {
        "colab": {
          "base_uri": "https://localhost:8080/"
        },
        "id": "MzJ5M5NUIfxa",
        "outputId": "de9b3057-e8e9-422e-d8b6-904562bd9e9e"
      },
      "execution_count": 2,
      "outputs": [
        {
          "output_type": "stream",
          "name": "stdout",
          "text": [
            "\u001b[2K   \u001b[90m━━━━━━━━━━━━━━━━━━━━━━━━━━━━━━━━━━━━━━━━\u001b[0m \u001b[32m51.3/51.3 MB\u001b[0m \u001b[31m18.7 MB/s\u001b[0m eta \u001b[36m0:00:00\u001b[0m\n",
            "\u001b[2K   \u001b[90m━━━━━━━━━━━━━━━━━━━━━━━━━━━━━━━━━━━━━━━━\u001b[0m \u001b[32m322.2/322.2 kB\u001b[0m \u001b[31m21.7 MB/s\u001b[0m eta \u001b[36m0:00:00\u001b[0m\n",
            "\u001b[2K   \u001b[90m━━━━━━━━━━━━━━━━━━━━━━━━━━━━━━━━━━━━━━━━\u001b[0m \u001b[32m95.2/95.2 kB\u001b[0m \u001b[31m7.5 MB/s\u001b[0m eta \u001b[36m0:00:00\u001b[0m\n",
            "\u001b[2K   \u001b[90m━━━━━━━━━━━━━━━━━━━━━━━━━━━━━━━━━━━━━━━━\u001b[0m \u001b[32m11.3/11.3 MB\u001b[0m \u001b[31m99.0 MB/s\u001b[0m eta \u001b[36m0:00:00\u001b[0m\n",
            "\u001b[2K   \u001b[90m━━━━━━━━━━━━━━━━━━━━━━━━━━━━━━━━━━━━━━━━\u001b[0m \u001b[32m72.0/72.0 kB\u001b[0m \u001b[31m6.1 MB/s\u001b[0m eta \u001b[36m0:00:00\u001b[0m\n",
            "\u001b[2K   \u001b[90m━━━━━━━━━━━━━━━━━━━━━━━━━━━━━━━━━━━━━━━━\u001b[0m \u001b[32m62.3/62.3 kB\u001b[0m \u001b[31m4.6 MB/s\u001b[0m eta \u001b[36m0:00:00\u001b[0m\n",
            "\u001b[?25h"
          ]
        }
      ]
    },
    {
      "cell_type": "code",
      "execution_count": 3,
      "metadata": {
        "colab": {
          "base_uri": "https://localhost:8080/",
          "height": 646
        },
        "id": "zOY5cPoDIBRn",
        "outputId": "e9c1c2f4-9e8b-44c1-e485-60d941a670dc"
      },
      "outputs": [
        {
          "output_type": "stream",
          "name": "stdout",
          "text": [
            "Running Gradio in a Colab notebook requires sharing enabled. Automatically setting `share=True` (you can turn this off by setting `share=False` in `launch()` explicitly).\n",
            "\n",
            "Colab notebook detected. To show errors in colab notebook, set debug=True in launch()\n",
            "* Running on public URL: https://4a63aecf7baa3222a7.gradio.live\n",
            "\n",
            "This share link expires in 72 hours. For free permanent hosting and GPU upgrades, run `gradio deploy` from the terminal in the working directory to deploy to Hugging Face Spaces (https://huggingface.co/spaces)\n"
          ]
        },
        {
          "output_type": "display_data",
          "data": {
            "text/plain": [
              "<IPython.core.display.HTML object>"
            ],
            "text/html": [
              "<div><iframe src=\"https://4a63aecf7baa3222a7.gradio.live\" width=\"100%\" height=\"500\" allow=\"autoplay; camera; microphone; clipboard-read; clipboard-write;\" frameborder=\"0\" allowfullscreen></iframe></div>"
            ]
          },
          "metadata": {}
        },
        {
          "output_type": "execute_result",
          "data": {
            "text/plain": []
          },
          "metadata": {},
          "execution_count": 3
        }
      ],
      "source": [
        "import gradio as gr\n",
        "import requests\n",
        "import pandas as pd\n",
        "import plotly.express as px\n",
        "\n",
        "def get_crypto_price(crypto_ids):\n",
        "    url = f\"https://api.coingecko.com/api/v3/simple/price?ids={','.join(crypto_ids)}&vs_currencies=usd\"\n",
        "    response = requests.get(url).json()\n",
        "    return {crypto: response[crypto]['usd'] for crypto in crypto_ids if crypto in response}\n",
        "\n",
        "def calculate_portfolio(bitcoin, ethereum, dogecoin, solana, cardano):\n",
        "    crypto_options = [\"bitcoin\", \"ethereum\", \"dogecoin\", \"solana\", \"cardano\"]\n",
        "    portfolio = {\"bitcoin\": bitcoin, \"ethereum\": ethereum, \"dogecoin\": dogecoin, \"solana\": solana, \"cardano\": cardano}\n",
        "\n",
        "    crypto_prices = get_crypto_price(crypto_options)\n",
        "    total_value = sum(portfolio[crypto] * crypto_prices.get(crypto, 0) for crypto in portfolio)\n",
        "\n",
        "    # Create DataFrame for visualization\n",
        "    data = {\"Crypto\": [], \"Holdings (USD)\": []}\n",
        "    for crypto, amount in portfolio.items():\n",
        "        if amount > 0 and crypto in crypto_prices:\n",
        "            data[\"Crypto\"].append(crypto.capitalize())\n",
        "            data[\"Holdings (USD)\"].append(amount * crypto_prices[crypto])\n",
        "\n",
        "    df = pd.DataFrame(data)\n",
        "\n",
        "    # Portfolio allocation chart\n",
        "    if not df.empty:\n",
        "        fig = px.pie(df, names=\"Crypto\", values=\"Holdings (USD)\", title=\"Portfolio Allocation\", hole=0.4)\n",
        "        return f\"Portfolio Value: ${total_value:,.2f}\", df, fig\n",
        "    else:\n",
        "        return f\"Portfolio Value: ${total_value:,.2f}\", df, None\n",
        "\n",
        "iface = gr.Interface(\n",
        "    fn=calculate_portfolio,\n",
        "    inputs=[\n",
        "        gr.Number(label=\"Bitcoin (Amount Held)\", value=0.0),\n",
        "        gr.Number(label=\"Ethereum (Amount Held)\", value=0.0),\n",
        "        gr.Number(label=\"Dogecoin (Amount Held)\", value=0.0),\n",
        "        gr.Number(label=\"Solana (Amount Held)\", value=0.0),\n",
        "        gr.Number(label=\"Cardano (Amount Held)\", value=0.0),\n",
        "    ],\n",
        "    outputs=[\"text\", \"dataframe\", gr.Plot()],\n",
        "    title=\"💰 Simple Crypto Portfolio Tracker\",\n",
        "    description=\"Track your cryptocurrency holdings in real-time!\",\n",
        ")\n",
        "\n",
        "iface.launch()\n"
      ]
    }
  ]
}